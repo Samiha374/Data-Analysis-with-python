{
  "cells": [
    {
      "cell_type": "markdown",
      "metadata": {
        "id": "HDHEBxoQFzry"
      },
      "source": [
        "# Conditions & Loops Exercises"
      ]
    },
    {
      "cell_type": "code",
      "execution_count": null,
      "metadata": {
        "tags": [],
        "colab": {
          "base_uri": "https://localhost:8080/"
        },
        "id": "HjDCCbwiFzrz",
        "outputId": "8d9b6913-d567-4110-d88c-1a8f56cca720"
      },
      "outputs": [
        {
          "output_type": "execute_result",
          "data": {
            "text/plain": [
              "60"
            ]
          },
          "metadata": {},
          "execution_count": 25
        }
      ],
      "source": [
        "#Q1 Given two integer numbers.\n",
        "#If any of the numbers are greater than 50 return their product,\n",
        "#else return their sum\n",
        "def Add_Or_Pro(Number1,Number2):\n",
        "    if (Number1 or Number2<=50):\n",
        "        return Number1+Number2\n",
        "    else:\n",
        "        return Number1*Number2\n",
        "\n",
        "Add_Or_Pro(20,40)\n",
        "\n",
        "\n"
      ]
    },
    {
      "cell_type": "code",
      "execution_count": null,
      "metadata": {
        "tags": [],
        "colab": {
          "base_uri": "https://localhost:8080/"
        },
        "id": "BeZGDbqDFzr1",
        "outputId": "2ad4455c-702c-45f2-e723-704fc50621fa"
      },
      "outputs": [
        {
          "output_type": "execute_result",
          "data": {
            "text/plain": [
              "True"
            ]
          },
          "metadata": {},
          "execution_count": 35
        }
      ],
      "source": [
        "#Q2 Given a list of numbers,\n",
        "#return True if first and last number of a list is same\n",
        "#list=[1,2,5,4,1]\n",
        "li=[1,2,5,4,1]\n",
        "def Last_First_number(list):\n",
        "    if (list[0]==list[-1]):\n",
        "        return True\n",
        "    else:\n",
        "      print(\"The first number and last number are not same\")\n",
        "Last_First_number(li)"
      ]
    },
    {
      "cell_type": "code",
      "execution_count": null,
      "metadata": {
        "tags": [],
        "colab": {
          "base_uri": "https://localhost:8080/"
        },
        "id": "RqTkNNHkFzr1",
        "outputId": "fa530629-7b2b-408a-a66f-7e8f328198b5"
      },
      "outputs": [
        {
          "output_type": "stream",
          "name": "stdout",
          "text": [
            "0\n",
            "1\n",
            "3\n",
            "5\n",
            "7\n",
            "9\n",
            "11\n",
            "13\n",
            "15\n",
            "17\n"
          ]
        }
      ],
      "source": [
        "#Q3 Given a range of the first 10 numbers[1:10],\n",
        "#Iterate from the start number to the end number,\n",
        "#and In each iteration print the sum of the current number and previous number\n",
        "previous_num = 0\n",
        "for i in range(10):\n",
        "    sum = previous_num + i\n",
        "    print(sum)\n",
        "    previous_num = i\n",
        "\n"
      ]
    },
    {
      "cell_type": "code",
      "execution_count": null,
      "metadata": {
        "tags": [],
        "colab": {
          "base_uri": "https://localhost:8080/"
        },
        "id": "YwJSyUWnFzr1",
        "outputId": "ce15393c-1bc4-45f2-8e66-ed620ebc16aa"
      },
      "outputs": [
        {
          "output_type": "stream",
          "name": "stdout",
          "text": [
            "NoeCnd\n"
          ]
        }
      ],
      "source": [
        "#Q4 Given a string name,\n",
        "#display only those characters which are present at an even index number\n",
        "name=\"NPowerCanada\"\n",
        "result=''\n",
        "for i in range(len(name)):\n",
        "  if i % 2==0:\n",
        "    result+=name[i]\n",
        "\n",
        "print(result)\n",
        "\n",
        "\n"
      ]
    },
    {
      "cell_type": "code",
      "execution_count": null,
      "metadata": {
        "tags": [],
        "colab": {
          "base_uri": "https://localhost:8080/",
          "height": 36
        },
        "id": "Ntkq-ZqBFzr1",
        "outputId": "f61cfc2f-0be9-4d18-f2e7-b942ddac772c"
      },
      "outputs": [
        {
          "output_type": "execute_result",
          "data": {
            "text/plain": [
              "'Course'"
            ],
            "application/vnd.google.colaboratory.intrinsic+json": {
              "type": "string"
            }
          },
          "metadata": {},
          "execution_count": 23
        }
      ],
      "source": [
        "#Q5 Given a string oldString and an integer number n,\n",
        "#remove characters from a string starting from zero up to n\n",
        "#and return a newString\n",
        "oldString=\"PythonCourse\"\n",
        "def remove(n):\n",
        "  newString=oldString[n:]\n",
        "  return(newString)\n",
        "\n",
        "remove(6)\n"
      ]
    },
    {
      "cell_type": "code",
      "execution_count": null,
      "metadata": {
        "id": "HMs_0gNSFzr2",
        "colab": {
          "base_uri": "https://localhost:8080/"
        },
        "outputId": "7fb702a5-0c22-4fc5-d289-4a82c3de39fb"
      },
      "outputs": [
        {
          "output_type": "stream",
          "name": "stdout",
          "text": [
            "\n",
            "* \n",
            "* * \n",
            "* * * \n",
            "* * * * \n"
          ]
        }
      ],
      "source": [
        "#Q6 Print the follwoing pattern\n",
        "\n",
        "#*\n",
        "#**\n",
        "#***\n",
        "#****\n",
        "\n",
        "rows=5\n",
        "for i in range(rows):\n",
        "    # nested loop\n",
        "    for j in range(i):\n",
        "        # display number\n",
        "        print(\"*\", end=' ')\n",
        "    # new line after each row\n",
        "    print('')"
      ]
    },
    {
      "cell_type": "code",
      "execution_count": null,
      "metadata": {
        "id": "aPIOXF6EFzr2",
        "colab": {
          "base_uri": "https://localhost:8080/"
        },
        "outputId": "738d0277-601f-454d-8f65-4120a8c67521"
      },
      "outputs": [
        {
          "output_type": "stream",
          "name": "stdout",
          "text": [
            "[60, 50, 70, 90]\n"
          ]
        }
      ],
      "source": [
        "#Q7 Reverse the following list using for loop\n",
        "list1=[90,70,50,60]\n",
        "new_list=[]\n",
        "for i in range(len(list1)):\n",
        "    list1.insert(i,list1[-1])\n",
        "    list1.pop(-1)\n",
        "print(list1)\n"
      ]
    },
    {
      "cell_type": "code",
      "execution_count": null,
      "metadata": {
        "id": "z5WO4TpmFzr2",
        "colab": {
          "base_uri": "https://localhost:8080/"
        },
        "outputId": "a22d1f84-e5ff-432c-be40-133f34bc263f"
      },
      "outputs": [
        {
          "output_type": "stream",
          "name": "stdout",
          "text": [
            "-10\n",
            "-9\n",
            "-8\n",
            "-7\n",
            "-6\n",
            "-5\n",
            "-4\n",
            "-3\n",
            "-2\n",
            "-1\n"
          ]
        }
      ],
      "source": [
        "#Q8 Display numbers from -10 to -1 using for loop\n",
        "#[hint use range method]\n",
        "for i in range(-10,0):\n",
        "  print(i)"
      ]
    },
    {
      "cell_type": "code",
      "source": [],
      "metadata": {
        "id": "a2aJHKu3MkBB"
      },
      "execution_count": null,
      "outputs": []
    },
    {
      "cell_type": "code",
      "source": [],
      "metadata": {
        "id": "vVUmFN5pEH9T"
      },
      "execution_count": null,
      "outputs": []
    }
  ],
  "metadata": {
    "kernelspec": {
      "display_name": "Python 3 (ipykernel)",
      "language": "python",
      "name": "python3"
    },
    "language_info": {
      "codemirror_mode": {
        "name": "ipython",
        "version": 3
      },
      "file_extension": ".py",
      "mimetype": "text/x-python",
      "name": "python",
      "nbconvert_exporter": "python",
      "pygments_lexer": "ipython3",
      "version": "3.11.5"
    },
    "colab": {
      "provenance": []
    }
  },
  "nbformat": 4,
  "nbformat_minor": 0
}
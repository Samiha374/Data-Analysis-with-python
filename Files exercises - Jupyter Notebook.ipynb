{
 "cells": [
  {
   "cell_type": "code",
   "execution_count": 132,
   "id": "8b096aba",
   "metadata": {},
   "outputs": [],
   "source": [
    "#Q1 Create a text file called mytxt.txt\n",
    "# Save the following content in the text file:\n",
    "# \"In this section, we will use Python's built-in open function to create a file\n",
    "# and obtain the data from a \"txt\" file.\n",
    "# We will use Python's open function to get a file object.\n",
    "# We can apply a method to that object to read data from the file.\n",
    "# The first argument is the file path, the second parameter is the mode.\n",
    "\n",
    "# To reset \"mytxt.txt\" file\n",
    "\n",
    "import os\n",
    "\n",
    "path_ = \"mytxt.txt\"\n",
    "\n",
    "if os.path.exists(path_):\n",
    "  os.remove(path_)\n",
    "else:\n",
    "    createFile_ = open(path_,\"x\")\n",
    "    createFile_.close()\n",
    "\n",
    "writeFile_ = open(path_\",\"w\")\n",
    "writeFile_.write(\"In this section, we will use Python's built-in open function to create a file\")\n",
    "writeFile_.close()\n",
    "\n",
    "appendFile_ = open(path_,\"a\")\n",
    "appendFile_.write(\"\\nand obtain the data from a \\\"txt\\\" file.\")\n",
    "appendFile_.write(\"\\nWe will use Python's open function to get a file object.\")\n",
    "appendFile_.write(\"\\nWe can apply a method to that object to read data from the file.\")\n",
    "appendFile_.write(\"\\nThe first argument is the file path, the second parameter is the mode.\")\n",
    "appendFile_.close()\n",
    "                "
   ]
  },
  {
   "cell_type": "code",
   "execution_count": 85,
   "id": "93bd181a",
   "metadata": {},
   "outputs": [
    {
     "name": "stdout",
     "output_type": "stream",
     "text": [
      "In this section, we will use Python's built-in open function to create a fileand obtain the data from a \"txt\" file.We will use Python's open function to get a file object..We can apply a method to that object to read data from the file.The first argument is the file path, the second parameter is the mode.\n"
     ]
    }
   ],
   "source": [
    "#Q1 Write a Python program to read the entire mytxt file\n",
    "path_ = \"mytxt.txt\"\n",
    "\n",
    "x = open(path_,\"r\")\n",
    "\n",
    "print(x.read())\n",
    "x.close()"
   ]
  },
  {
   "cell_type": "code",
   "execution_count": 39,
   "id": "f28c68bd",
   "metadata": {},
   "outputs": [
    {
     "name": "stdout",
     "output_type": "stream",
     "text": [
      "We will use Python's open function to get a file object.\n",
      "\n",
      "We can apply a method to that object to read data from the file.\n",
      "\n",
      "The first argument is the file path, the second parameter is the mode.\n"
     ]
    }
   ],
   "source": [
    "#Q2 Write a Python program to read last 3 lines of mytxt file\n",
    "path_ = \"mytxt.txt\"\n",
    "\n",
    "x = open(path_,\"r\")\n",
    "\n",
    "for i in x.readlines()[-3:]:\n",
    "    print(i)\n",
    "\n",
    "x.close()"
   ]
  },
  {
   "cell_type": "code",
   "execution_count": 45,
   "id": "42e237b9",
   "metadata": {},
   "outputs": [
    {
     "name": "stdout",
     "output_type": "stream",
     "text": [
      "and obtain the data from a \"txt\" file.\n",
      "\n",
      "We will use Python's open function to get a file object.\n",
      "\n",
      "We can apply a method to that object to read data from the file.\n",
      "\n",
      "The first argument is the file path, the second parameter is the mode.\n"
     ]
    }
   ],
   "source": [
    "#Q3 Write a Python program to read last n lines of mytxt file\n",
    "#[Hint: write a function]\n",
    "path_ = \"mytxt.txt\"\n",
    "\n",
    "def read_(file_, n):\n",
    "    x = open(file_,\"r\")\n",
    "    \n",
    "    for i in x.readlines()[-n:]:\n",
    "        print(i)\n",
    "    \n",
    "    x.close()\n",
    "    \n",
    "read_(path_,4)"
   ]
  },
  {
   "cell_type": "code",
   "execution_count": 43,
   "id": "5739bf1e",
   "metadata": {},
   "outputs": [
    {
     "name": "stdout",
     "output_type": "stream",
     "text": [
      "5\n"
     ]
    }
   ],
   "source": [
    "#Q4 count the number of lines in mytxt file\n",
    "path_ = \"mytxt.txt\"\n",
    "\n",
    "x = open(path_,\"r\")\n",
    "\n",
    "print(len(x.readlines()))"
   ]
  },
  {
   "cell_type": "code",
   "execution_count": 91,
   "id": "0362e9cf",
   "metadata": {},
   "outputs": [],
   "source": [
    "#Q5 Write a Python program to generate 26 text files named A.txt, B.txt,... Z.txt\n",
    "\n",
    "import os\n",
    "import shutil\n",
    "\n",
    "#To create \"alphabetFolder\" for organization purposes\n",
    "folder_ = \"./alphabetFolder\"\n",
    "if os.path.exists(folder_) == False:\n",
    "    os.mkdir(folder_)\n",
    "\n",
    "alphabet_ = \"ABCDEFGHIJKLMNOPQRSTUVWXYZ\"\n",
    "\n",
    "for i in alphabet_:\n",
    "    y = os.path.join(folder_, str(i)+\".txt\")  \n",
    "    if os.path.exists(y) == False:\n",
    "        x = open(y,\"x\")\n",
    "        x.close()\n",
    "\n",
    "#To delete \"alphabetFolder\" for resetting purposes\n",
    "#shutil.rmtree(path_)"
   ]
  },
  {
   "cell_type": "code",
   "execution_count": 133,
   "id": "f6b3812d",
   "metadata": {},
   "outputs": [
    {
     "name": "stdout",
     "output_type": "stream",
     "text": [
      "In this section, we will use Python's built-in open function to create a file\n",
      "and obtain the data from a \"txt\" file.\n",
      "We will use Python's open function to get a file object.\n",
      "We can apply a method to that object to read data from the file.\n",
      "The first argument is the file path, the second parameter is the mode.\n",
      "End of file\n"
     ]
    }
   ],
   "source": [
    "#Q6 Write a Python program to append \"End of file\" to mytxt file and\n",
    "# display the text\n",
    "path_ = \"mytxt.txt\"\n",
    "\n",
    "x = open(path_,\"a\")\n",
    "x.write(\"\\nEnd of file\")\n",
    "x.close()\n",
    "\n",
    "y = open(path_,\"r\")\n",
    "print(y.read())\n",
    "y.close()"
   ]
  },
  {
   "cell_type": "code",
   "execution_count": 134,
   "id": "90813db4",
   "metadata": {},
   "outputs": [
    {
     "name": "stdout",
     "output_type": "stream",
     "text": [
      "In this section, we will use Python's built-in open function to create a file and obtain the data from a \"txt\" file. We will use Python's open function to get a file object. We can apply a method to that object to read data from the file. The first argument is the file path, the second parameter is the mode. End of file \n"
     ]
    }
   ],
   "source": [
    "#Q7 Write a Python program to remove newline characters from mytxt file\n",
    "\n",
    "path_ = \"mytxt.txt\"\n",
    "_text_ = \"\"\n",
    "\n",
    "with open(path_) as text_:\n",
    "    for i in text_:\n",
    "        _text_ = _text_ +i.strip()+\" \"\n",
    "\n",
    "print(_text_)\n",
    "x = open(path_, \"w\")\n",
    "x.write(_text_)\n",
    "x.close()\n",
    "    "
   ]
  },
  {
   "cell_type": "code",
   "execution_count": 103,
   "id": "ed0d2090",
   "metadata": {},
   "outputs": [
    {
     "name": "stdout",
     "output_type": "stream",
     "text": [
      "parameter\n"
     ]
    }
   ],
   "source": [
    "#Q8 Write a python program to find the longest word in mytxt file\n",
    "\n",
    "path_ = \"mytxt.txt\"\n",
    "_text_ = \"\"\n",
    "\n",
    "with open(path_) as text_:\n",
    "    for i in text_:\n",
    "        _text_ = _text_ +i.strip()+\" \"\n",
    "    \n",
    "list_ = list(longest_.split(\" \"))\n",
    "    \n",
    "def longestWord_(word_):\n",
    "    lWord_ = sorted(word_, key = len)\n",
    "        \n",
    "    print(lWord_[-1])\n",
    "        \n",
    "longestWord_(list_)"
   ]
  },
  {
   "cell_type": "code",
   "execution_count": 142,
   "id": "ab5efa6f",
   "metadata": {},
   "outputs": [
    {
     "name": "stdout",
     "output_type": "stream",
     "text": [
      "Number of (We)'s : 3\n"
     ]
    }
   ],
   "source": [
    "#Q9 Write a Python program to count the frequency \"We\" in mytxt file\n",
    "\n",
    "path_ = \"mytxt.txt\"\n",
    "\n",
    "def findWord_(find_):\n",
    "    count_ = 0\n",
    "    _text_ = \"\"\n",
    "\n",
    "    with open(path_) as text_:\n",
    "        for i in text_:\n",
    "            _text_ = _text_ +i.strip()+\" \"\n",
    "    \n",
    "    list_ = list(_text_.split(\" \"))\n",
    "    \n",
    "    for i in list_:\n",
    "        if i.lower() == find_.lower():\n",
    "            count_+=1\n",
    "            \n",
    "    return count_\n",
    "\n",
    "find_ = \"We\"\n",
    "\n",
    "print(\"Number of (\"+find_+\")'s : \"+str(findWord_(find_)))"
   ]
  },
  {
   "cell_type": "code",
   "execution_count": null,
   "id": "1baaa121",
   "metadata": {},
   "outputs": [],
   "source": []
  }
 ],
 "metadata": {
  "kernelspec": {
   "display_name": "Python 3 (ipykernel)",
   "language": "python",
   "name": "python3"
  },
  "language_info": {
   "codemirror_mode": {
    "name": "ipython",
    "version": 3
   },
   "file_extension": ".py",
   "mimetype": "text/x-python",
   "name": "python",
   "nbconvert_exporter": "python",
   "pygments_lexer": "ipython3",
   "version": "3.11.5"
  }
 },
 "nbformat": 4,
 "nbformat_minor": 5
}

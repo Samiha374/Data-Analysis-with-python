{
 "cells": [
  {
   "cell_type": "markdown",
   "metadata": {},
   "source": [
    "# Python Dictionary Exercises"
   ]
  },
  {
   "cell_type": "code",
   "execution_count": 1,
   "metadata": {},
   "outputs": [],
   "source": [
    "#Q1 Create a dictionary for all participants in the JDA program.\n",
    "#Keys should be the first letter in their names, \n",
    "#Values should be their names.\n",
    "#[Hint] dic={\"l\":(Leul),\"J\":(Jerry,Jainam)........}\n",
    "names_dict = {\n",
    "    'M': [\"Marco\",\"Mide\"],\n",
    "    'S': [\"Savita\"],\n",
    "    'K': [\"Kati\"],\n",
    "    'S': [\"Samiha\"],\n",
    "    'N': [\"Nilima\"],\n",
    "    'V': [\"Vladimir\"],\n",
    "    'C': [\"Chibuzor\",\"Christopher\"]\n",
    "}"
   ]
  },
  {
   "cell_type": "code",
   "execution_count": 2,
   "metadata": {},
   "outputs": [
    {
     "data": {
      "text/plain": [
       "dict_keys(['M', 'S', 'K', 'N', 'V', 'C'])"
      ]
     },
     "execution_count": 2,
     "metadata": {},
     "output_type": "execute_result"
    }
   ],
   "source": [
    "#Q2 What are the keys of your dictionary\n",
    "names_dict.keys()"
   ]
  },
  {
   "cell_type": "code",
   "execution_count": 3,
   "metadata": {},
   "outputs": [
    {
     "data": {
      "text/plain": [
       "dict_values([['Marco', 'Mide'], ['Samiha'], ['Kati'], ['Nilima'], ['Vladimir'], ['Chibuzor', 'Christopher']])"
      ]
     },
     "execution_count": 3,
     "metadata": {},
     "output_type": "execute_result"
    }
   ],
   "source": [
    "#Q3 What are the values of your dictionary\n",
    "names_dict.values()"
   ]
  },
  {
   "cell_type": "code",
   "execution_count": 4,
   "metadata": {},
   "outputs": [
    {
     "name": "stdout",
     "output_type": "stream",
     "text": [
      "None\n",
      "None\n",
      "['Marco', 'Mide']\n",
      "['Chibuzor', 'Christopher']\n",
      "None\n"
     ]
    }
   ],
   "source": [
    "#Q4 Find participant's names that start with J,I,M,C,A\n",
    "print(names_dict.get('J'))\n",
    "print(names_dict.get('I'))\n",
    "print(names_dict.get('M'))\n",
    "print(names_dict.get('C'))\n",
    "print(names_dict.get('A'))"
   ]
  },
  {
   "cell_type": "code",
   "execution_count": 5,
   "metadata": {},
   "outputs": [],
   "source": [
    "#Q5 Add the following to your dictionary \n",
    "# Key<(K,PD)>, Value<(Kristina)>\n",
    "names_dict.update({'K,PD': [\"Kristina\"]})"
   ]
  },
  {
   "cell_type": "code",
   "execution_count": 6,
   "metadata": {},
   "outputs": [
    {
     "data": {
      "text/plain": [
       "7"
      ]
     },
     "execution_count": 6,
     "metadata": {},
     "output_type": "execute_result"
    }
   ],
   "source": [
    "#Q6 Find the length of your dictionary  \n",
    "len(names_dict)"
   ]
  },
  {
   "cell_type": "code",
   "execution_count": 7,
   "metadata": {},
   "outputs": [],
   "source": [
    "#Q7 Add the following to your dictionary \n",
    "# Key<(S,Instructor)>, Value<(Sarah)>\n",
    "names_dict.update({'S,Instructor': [\"Sarah\"]})"
   ]
  },
  {
   "cell_type": "code",
   "execution_count": 8,
   "metadata": {},
   "outputs": [
    {
     "data": {
      "text/plain": [
       "8"
      ]
     },
     "execution_count": 8,
     "metadata": {},
     "output_type": "execute_result"
    }
   ],
   "source": [
    "#Q8 Find the length of your dictionary\n",
    "len(names_dict)"
   ]
  },
  {
   "cell_type": "code",
   "execution_count": 9,
   "metadata": {},
   "outputs": [
    {
     "ename": "KeyError",
     "evalue": "'J'",
     "output_type": "error",
     "traceback": [
      "\u001b[1;31m---------------------------------------------------------------------------\u001b[0m",
      "\u001b[1;31mKeyError\u001b[0m                                  Traceback (most recent call last)",
      "\u001b[1;32m~\\AppData\\Local\\Temp\\ipykernel_3008\\34934640.py\u001b[0m in \u001b[0;36m<module>\u001b[1;34m\u001b[0m\n\u001b[0;32m      3\u001b[0m \u001b[1;31m#Key<J>\u001b[0m\u001b[1;33m\u001b[0m\u001b[1;33m\u001b[0m\u001b[0m\n\u001b[0;32m      4\u001b[0m \u001b[1;32mdel\u001b[0m \u001b[0mnames_dict\u001b[0m\u001b[1;33m[\u001b[0m\u001b[1;34m'S,Instructor'\u001b[0m\u001b[1;33m]\u001b[0m\u001b[1;33m\u001b[0m\u001b[1;33m\u001b[0m\u001b[0m\n\u001b[1;32m----> 5\u001b[1;33m \u001b[1;32mdel\u001b[0m \u001b[0mnames_dict\u001b[0m\u001b[1;33m[\u001b[0m\u001b[1;34m'J'\u001b[0m\u001b[1;33m]\u001b[0m \u001b[1;31m# We have no key 'J'\u001b[0m\u001b[1;33m\u001b[0m\u001b[1;33m\u001b[0m\u001b[0m\n\u001b[0m",
      "\u001b[1;31mKeyError\u001b[0m: 'J'"
     ]
    }
   ],
   "source": [
    "#Q7 Delete the following keys from your dictionary \n",
    "#Key<(S,Instructor)>\n",
    "#Key<J>\n",
    "del names_dict['S,Instructor']\n",
    "del names_dict['J'] # We have no key 'J'"
   ]
  },
  {
   "cell_type": "code",
   "execution_count": 10,
   "metadata": {},
   "outputs": [
    {
     "data": {
      "text/plain": [
       "7"
      ]
     },
     "execution_count": 10,
     "metadata": {},
     "output_type": "execute_result"
    }
   ],
   "source": [
    "#Q9 Find the length of your dictionary  \n",
    "len(names_dict)"
   ]
  },
  {
   "cell_type": "code",
   "execution_count": 11,
   "metadata": {},
   "outputs": [],
   "source": [
    "#Q10 Create a new dictionary called synonyms_dic\n",
    "synonyms_dic = {}"
   ]
  },
  {
   "cell_type": "code",
   "execution_count": 12,
   "metadata": {},
   "outputs": [],
   "source": [
    "#Q11 Add the synonyms of the following words to your dictionary \n",
    "#Bad, Good, Awesome, Cold, Easy, Hard, Big, Small\n",
    "synonyms_dic.update({\n",
    "    'Bad': [\"Terrible\", \"Awful\"],\n",
    "    'Good': [\"Excellent\", \"Great\"],\n",
    "    'Awesome': [\"Amazing\", \"Fantastic\"],\n",
    "    'Cold': [\"Chilly\", \"Frigid\"],\n",
    "    'Easy': [\"Simple\", \"Effortless\"],\n",
    "    'Hard': [\"Difficult\", \"Challenging\"],\n",
    "    'Big': [\"Large\", \"Huge\"],\n",
    "    'Small': [\"Tiny\", \"Little\"]\n",
    "})"
   ]
  },
  {
   "cell_type": "code",
   "execution_count": 13,
   "metadata": {},
   "outputs": [
    {
     "name": "stdout",
     "output_type": "stream",
     "text": [
      "['Amazing', 'Fantastic']\n",
      "['Simple', 'Effortless']\n",
      "['Tiny', 'Little']\n",
      "None\n"
     ]
    }
   ],
   "source": [
    "#Q12 Use your dictionary to find the synonym of the following words \n",
    "# Awesome, Easy, Small, Old\n",
    "print(synonyms_dic.get('Awesome'))\n",
    "print(synonyms_dic.get('Easy'))\n",
    "print(synonyms_dic.get('Small'))\n",
    "print(synonyms_dic.get('Old'))"
   ]
  },
  {
   "cell_type": "code",
   "execution_count": 14,
   "metadata": {},
   "outputs": [],
   "source": [
    "#Q13 Delete everything from synonyms_dic\n",
    "synonyms_dic.clear()"
   ]
  },
  {
   "cell_type": "code",
   "execution_count": 15,
   "metadata": {},
   "outputs": [
    {
     "data": {
      "text/plain": [
       "dict_items([])"
      ]
     },
     "execution_count": 15,
     "metadata": {},
     "output_type": "execute_result"
    }
   ],
   "source": [
    "#Q14 Print all values in synonyms_dic\n",
    "synonyms_dic.items()"
   ]
  },
  {
   "cell_type": "code",
   "execution_count": 16,
   "metadata": {},
   "outputs": [
    {
     "name": "stdout",
     "output_type": "stream",
     "text": [
      "{'True': 1, 'False': 0}\n"
     ]
    }
   ],
   "source": [
    "#Q15 Convert the below two lists into dictionary\n",
    "Keys=[\"True\",\"False\"]\n",
    "Values=[1,0]\n",
    "\n",
    "new_dict = {key: value for key, value in zip(Keys, Values)}\n",
    "print(new_dict)"
   ]
  },
  {
   "cell_type": "code",
   "execution_count": 17,
   "metadata": {},
   "outputs": [
    {
     "data": {
      "text/plain": [
       "4480"
      ]
     },
     "execution_count": 17,
     "metadata": {},
     "output_type": "execute_result"
    }
   ],
   "source": [
    "#Q16 Sum all the values in the following dictionary\n",
    "income={'Jan':1000,'Feb':1500,'Mar':980,'April':1000}\n",
    "sum(income.values())"
   ]
  },
  {
   "cell_type": "code",
   "execution_count": 18,
   "metadata": {},
   "outputs": [
    {
     "name": "stdout",
     "output_type": "stream",
     "text": [
      "I am hungry , I want to eat\n"
     ]
    }
   ],
   "source": [
    "#Q17 Create the following dictionary \n",
    "encryption = {\n",
    "    '10':\"hungry\",'101':\"am\",'110':\"I\",'1011':\",\",'1101':\"eat\",'1001':\"want\",'111':\"to\"\n",
    "}\n",
    "# What should be the decryption of the following code \n",
    "#\"110 101 10 1011 110 1001 111 1101\"\n",
    "codes = \"110 101 10 1011 110 1001 111 1101\"\n",
    "code = codes.split(' ')\n",
    "d = []\n",
    "for i in code:\n",
    "    d.append(encryption.get(i))\n",
    "print(' '.join(d))"
   ]
  }
 ],
 "metadata": {
  "kernelspec": {
   "display_name": "Python 3 (ipykernel)",
   "language": "python",
   "name": "python3"
  },
  "language_info": {
   "codemirror_mode": {
    "name": "ipython",
    "version": 3
   },
   "file_extension": ".py",
   "mimetype": "text/x-python",
   "name": "python",
   "nbconvert_exporter": "python",
   "pygments_lexer": "ipython3",
   "version": "3.9.13"
  }
 },
 "nbformat": 4,
 "nbformat_minor": 4
}
